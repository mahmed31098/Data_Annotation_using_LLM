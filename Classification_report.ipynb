{
 "cells": [
  {
   "cell_type": "code",
   "execution_count": 2,
   "id": "d8f0d61a",
   "metadata": {},
   "outputs": [
    {
     "name": "stdout",
     "output_type": "stream",
     "text": [
      "              precision    recall  f1-score   support\n",
      "\n",
      "    Negative       0.74      1.00      0.85       816\n",
      "     Neutral       0.55      0.07      0.12       240\n",
      "    Positive       1.00      0.01      0.03        76\n",
      "\n",
      "    accuracy                           0.73      1132\n",
      "   macro avg       0.76      0.36      0.33      1132\n",
      "weighted avg       0.72      0.73      0.64      1132\n",
      "\n"
     ]
    }
   ],
   "source": [
    "import pandas as pd\n",
    "from sklearn.metrics import classification_report\n",
    "\n",
    "data = pd.read_excel('finetuned_Mistral.xlsx')\n",
    "\n",
    "y_true = data['y_train']\n",
    "y_pred = data['training_result']\n",
    "\n",
    "print(classification_report(y_true, y_pred))\n"
   ]
  },
  {
   "cell_type": "code",
   "execution_count": 7,
   "id": "f45fad2a",
   "metadata": {},
   "outputs": [
    {
     "name": "stdout",
     "output_type": "stream",
     "text": [
      "              precision    recall  f1-score   support\n",
      "\n",
      "    Negative       0.86      0.73      0.79       816\n",
      "     Neutral       0.37      0.67      0.48       240\n",
      "    Positive       0.60      0.08      0.14        76\n",
      "\n",
      "    accuracy                           0.67      1132\n",
      "   macro avg       0.61      0.49      0.47      1132\n",
      "weighted avg       0.74      0.67      0.68      1132\n",
      "\n"
     ]
    }
   ],
   "source": [
    "data = pd.read_excel('cr_finetuned_Codellama34B.xlsx')\n",
    "\n",
    "y_true = data['y_train']\n",
    "y_pred = data['training_result']\n",
    "\n",
    "print(classification_report(y_true, y_pred))"
   ]
  },
  {
   "cell_type": "code",
   "execution_count": null,
   "id": "07f2bc37",
   "metadata": {},
   "outputs": [],
   "source": []
  }
 ],
 "metadata": {
  "kernelspec": {
   "display_name": "Python 3 (ipykernel)",
   "language": "python",
   "name": "python3"
  },
  "language_info": {
   "codemirror_mode": {
    "name": "ipython",
    "version": 3
   },
   "file_extension": ".py",
   "mimetype": "text/x-python",
   "name": "python",
   "nbconvert_exporter": "python",
   "pygments_lexer": "ipython3",
   "version": "3.9.13"
  }
 },
 "nbformat": 4,
 "nbformat_minor": 5
}
